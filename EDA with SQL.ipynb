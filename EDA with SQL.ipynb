{
    "cells": [
        {
            "cell_type": "markdown",
            "source": [
                "<center>\n",
                "    <img src=\"https://gitlab.com/ibm/skills-network/courses/placeholder101/-/raw/master/labs/module%201/images/IDSNlogo.png\"  width=\"300\" alt=\"cognitiveclass.ai logo\"  />\n",
                "</center>\n",
                "\n",
                "<h1 align=center><font size = 5>Assignment: SQL Notebook for Peer Assignment</font></h1>\n",
                "\n",
                "Estimated time needed: **60** minutes.\n",
                "\n",
                "## Introduction\n",
                "\n",
                "Using this Python notebook you will:\n",
                "\n",
                "1.  Understand the Spacex DataSet\n",
                "2.  Load the dataset  into the corresponding table in a Db2 database\n",
                "3.  Execute SQL queries to answer assignment questions\n"
            ],
            "metadata": {}
        },
        {
            "cell_type": "markdown",
            "source": [
                "## Overview of the DataSet\n",
                "\n",
                "SpaceX has gained worldwide attention for a series of historic milestones.\n",
                "\n",
                "It is the only private company ever to return a spacecraft from low-earth orbit, which it first accomplished in December 2010.\n",
                "SpaceX advertises Falcon 9 rocket launches on its website with a cost of 62 million dollars wheras other providers cost upward of 165 million dollars each, much of the savings is because Space X can reuse the first stage.\n",
                "\n",
                "Therefore if we can determine if the first stage will land, we can determine the cost of a launch.\n",
                "\n",
                "This information can be used if an alternate company wants to bid against SpaceX for a rocket launch.\n",
                "\n",
                "This dataset includes a record for each payload carried during a SpaceX mission into outer space.\n"
            ],
            "metadata": {}
        },
        {
            "cell_type": "markdown",
            "source": [
                "### Download the datasets\n",
                "\n",
                "This assignment requires you to load the spacex dataset.\n",
                "\n",
                "In many cases the dataset to be analyzed is available as a .CSV (comma separated values) file, perhaps on the internet. Click on the link below to download and save the dataset (.CSV file):\n",
                "\n",
                "<a href=\"https://cf-courses-data.s3.us.cloud-object-storage.appdomain.cloud/IBM-DS0321EN-SkillsNetwork/labs/module_2/data/Spacex.csv?utm_medium=Exinfluencer&utm_source=Exinfluencer&utm_content=000026UJ&utm_term=10006555&utm_id=NA-SkillsNetwork-Channel-SkillsNetworkCoursesIBMDS0321ENSkillsNetwork26802033-2021-01-01\" target=\"_blank\">Spacex DataSet</a>\n"
            ],
            "metadata": {}
        },
        {
            "cell_type": "markdown",
            "source": [
                "### Store the dataset in database table\n",
                "\n",
                "**it is highly recommended to manually load the table using the database console LOAD tool in DB2**.\n",
                "\n",
                "<img src = \"https://cf-courses-data.s3.us.cloud-object-storage.appdomain.cloud/IBM-DS0321EN-SkillsNetwork/labs/module_2/images/spacexload.png\">\n",
                "\n",
                "Now open the Db2 console, open the LOAD tool, Select / Drag the .CSV file for the  dataset, Next create a New Table, and then follow the steps on-screen instructions to load the data. Name the new table as follows:\n",
                "\n",
                "**SPACEXDATASET**\n",
                "\n",
                "**Follow these steps while using old DB2 UI which is having Open Console Screen**\n",
                "\n",
                "**Note:While loading Spacex dataset, ensure that detect datatypes is disabled. Later click on the pencil icon(edit option).**\n",
                "\n",
                "1.  Change the Date Format by manually typing DD-MM-YYYY and timestamp format as DD-MM-YYYY HH\\:MM:SS\n",
                "\n",
                "2.  Change the PAYLOAD_MASS\\_\\_KG\\_  datatype  to INTEGER.\n",
                "\n",
                "<img src = \"https://cf-courses-data.s3.us.cloud-object-storage.appdomain.cloud/IBM-DS0321EN-SkillsNetwork/labs/module_2/images/spacexload2.png\">\n"
            ],
            "metadata": {}
        },
        {
            "cell_type": "markdown",
            "source": [
                "**Changes to be considered when having DB2 instance with the new UI having Go to UI screen**\n",
                "\n",
                "*   Refer to this insruction in this <a href=\"https://cf-courses-data.s3.us.cloud-object-storage.appdomain.cloud/IBMDeveloperSkillsNetwork-DB0201EN-SkillsNetwork/labs/Labs_Coursera_V5/labs/Lab%20-%20Sign%20up%20for%20IBM%20Cloud%20-%20Create%20Db2%20service%20instance%20-%20Get%20started%20with%20the%20Db2%20console/instructional-labs.md.html?utm_medium=Exinfluencer&utm_source=Exinfluencer&utm_content=000026UJ&utm_term=10006555&utm_id=NA-SkillsNetwork-Channel-SkillsNetworkCoursesIBMDS0321ENSkillsNetwork26802033-2021-01-01\">link</a> for viewing  the new  Go to UI screen.\n",
                "\n",
                "*   Later click on **Data link(below SQL)**  in the Go to UI screen  and click on **Load Data** tab.\n",
                "\n",
                "*   Later browse for the downloaded spacex file.\n",
                "\n",
                "<img src=\"https://cf-courses-data.s3.us.cloud-object-storage.appdomain.cloud/IBM-DS0321EN-SkillsNetwork/labs/module_2/images/browsefile.png\" width=\"800\"/>\n",
                "\n",
                "*   Once done select the schema andload the file.\n",
                "\n",
                " <img src=\"https://cf-courses-data.s3.us.cloud-object-storage.appdomain.cloud/IBM-DS0321EN-SkillsNetwork/labs/module_2/images/spacexload3.png\" width=\"800\"/>\n"
            ],
            "metadata": {}
        },
        {
            "cell_type": "code",
            "execution_count": 1,
            "source": [
                "!pip install sqlalchemy==1.3.9\n",
                "!pip install ibm_db_sa\n",
                "!pip install ipython-sql"
            ],
            "outputs": [
                {
                    "output_type": "stream",
                    "name": "stdout",
                    "text": [
                        "Collecting sqlalchemy==1.3.9\n",
                        "  Downloading SQLAlchemy-1.3.9.tar.gz (6.0 MB)\n",
                        "\u001b[K     |████████████████████████████████| 6.0 MB 10.3 MB/s \n",
                        "\u001b[?25hBuilding wheels for collected packages: sqlalchemy\n",
                        "  Building wheel for sqlalchemy (setup.py) ... \u001b[?25ldone\n",
                        "\u001b[?25h  Created wheel for sqlalchemy: filename=SQLAlchemy-1.3.9-cp38-cp38-macosx_10_9_x86_64.whl size=1155199 sha256=562d559e8a5683ae5d0661de8de01e58fae60521b7862a7c03f5419d1a786d62\n",
                        "  Stored in directory: /Users/yichenshih/Library/Caches/pip/wheels/cb/43/46/fa638f2422554332b7865d600275b24568bf60e76104a94bb4\n",
                        "Successfully built sqlalchemy\n",
                        "Installing collected packages: sqlalchemy\n",
                        "  Attempting uninstall: sqlalchemy\n",
                        "    Found existing installation: SQLAlchemy 1.4.7\n",
                        "    Uninstalling SQLAlchemy-1.4.7:\n",
                        "      Successfully uninstalled SQLAlchemy-1.4.7\n",
                        "Successfully installed sqlalchemy-1.3.9\n",
                        "\u001b[33mWARNING: You are using pip version 21.1.1; however, version 21.2.4 is available.\n",
                        "You should consider upgrading via the '/Users/yichenshih/opt/anaconda3/bin/python -m pip install --upgrade pip' command.\u001b[0m\n",
                        "Collecting ibm_db_sa\n",
                        "  Downloading ibm_db_sa-0.3.7.tar.gz (30 kB)\n",
                        "Requirement already satisfied: sqlalchemy>=0.7.3 in /Users/yichenshih/opt/anaconda3/lib/python3.8/site-packages (from ibm_db_sa) (1.3.9)\n",
                        "Collecting ibm_db>=2.0.0\n",
                        "  Downloading ibm_db-3.1.0.tar.gz (797 kB)\n",
                        "\u001b[K     |████████████████████████████████| 797 kB 1.3 MB/s \n",
                        "\u001b[?25h  Installing build dependencies ... \u001b[?25ldone\n",
                        "\u001b[?25h  Getting requirements to build wheel ... \u001b[?25ldone\n",
                        "\u001b[?25h  Installing backend dependencies ... \u001b[?25ldone\n",
                        "\u001b[?25h    Preparing wheel metadata ... \u001b[?25ldone\n",
                        "\u001b[?25hBuilding wheels for collected packages: ibm-db-sa, ibm-db\n",
                        "  Building wheel for ibm-db-sa (setup.py) ... \u001b[?25ldone\n",
                        "\u001b[?25h  Created wheel for ibm-db-sa: filename=ibm_db_sa-0.3.7-py3-none-any.whl size=29302 sha256=2203e8aa08f80335455d035596e0ccb0cbd812c0215611caaeb635d08e367943\n",
                        "  Stored in directory: /Users/yichenshih/Library/Caches/pip/wheels/56/a8/bf/19bbcc1d370b4fdc46c95228b6db3cdb5689b4afad12da3bc4\n",
                        "  Building wheel for ibm-db (PEP 517) ... \u001b[?25ldone\n",
                        "\u001b[?25h  Created wheel for ibm-db: filename=ibm_db-3.1.0-cp38-cp38-macosx_10_15_x86_64.whl size=32463779 sha256=66b8dad7aa5c9bae3872c8ed9251de5409655f3385ff760ef52bf60832f5da8b\n",
                        "  Stored in directory: /Users/yichenshih/Library/Caches/pip/wheels/43/71/0a/3065745bc1dc4cafbdcb09e2557082609f7689b16108b670df\n",
                        "Successfully built ibm-db-sa ibm-db\n",
                        "Installing collected packages: ibm-db, ibm-db-sa\n",
                        "Successfully installed ibm-db-3.1.0 ibm-db-sa-0.3.7\n",
                        "\u001b[33mWARNING: You are using pip version 21.1.1; however, version 21.2.4 is available.\n",
                        "You should consider upgrading via the '/Users/yichenshih/opt/anaconda3/bin/python -m pip install --upgrade pip' command.\u001b[0m\n",
                        "Collecting ipython-sql\n",
                        "  Downloading ipython_sql-0.4.0-py3-none-any.whl (19 kB)\n",
                        "Requirement already satisfied: sqlalchemy>=0.6.7 in /Users/yichenshih/opt/anaconda3/lib/python3.8/site-packages (from ipython-sql) (1.3.9)\n",
                        "Collecting prettytable<1\n",
                        "  Downloading prettytable-0.7.2.zip (28 kB)\n",
                        "Requirement already satisfied: six in /Users/yichenshih/opt/anaconda3/lib/python3.8/site-packages (from ipython-sql) (1.15.0)\n",
                        "Collecting sqlparse\n",
                        "  Downloading sqlparse-0.4.2-py3-none-any.whl (42 kB)\n",
                        "\u001b[K     |████████████████████████████████| 42 kB 1.3 MB/s \n",
                        "\u001b[?25hRequirement already satisfied: ipython-genutils>=0.1.0 in /Users/yichenshih/opt/anaconda3/lib/python3.8/site-packages (from ipython-sql) (0.2.0)\n",
                        "Requirement already satisfied: ipython>=1.0 in /Users/yichenshih/opt/anaconda3/lib/python3.8/site-packages (from ipython-sql) (7.22.0)\n",
                        "Requirement already satisfied: jedi>=0.16 in /Users/yichenshih/opt/anaconda3/lib/python3.8/site-packages (from ipython>=1.0->ipython-sql) (0.17.2)\n",
                        "Requirement already satisfied: pygments in /Users/yichenshih/opt/anaconda3/lib/python3.8/site-packages (from ipython>=1.0->ipython-sql) (2.8.1)\n",
                        "Requirement already satisfied: appnope in /Users/yichenshih/opt/anaconda3/lib/python3.8/site-packages (from ipython>=1.0->ipython-sql) (0.1.2)\n",
                        "Requirement already satisfied: pickleshare in /Users/yichenshih/opt/anaconda3/lib/python3.8/site-packages (from ipython>=1.0->ipython-sql) (0.7.5)\n",
                        "Requirement already satisfied: pexpect>4.3 in /Users/yichenshih/opt/anaconda3/lib/python3.8/site-packages (from ipython>=1.0->ipython-sql) (4.8.0)\n",
                        "Requirement already satisfied: prompt-toolkit!=3.0.0,!=3.0.1,<3.1.0,>=2.0.0 in /Users/yichenshih/opt/anaconda3/lib/python3.8/site-packages (from ipython>=1.0->ipython-sql) (3.0.17)\n",
                        "Requirement already satisfied: traitlets>=4.2 in /Users/yichenshih/opt/anaconda3/lib/python3.8/site-packages (from ipython>=1.0->ipython-sql) (5.0.5)\n",
                        "Requirement already satisfied: decorator in /Users/yichenshih/opt/anaconda3/lib/python3.8/site-packages (from ipython>=1.0->ipython-sql) (5.0.6)\n",
                        "Requirement already satisfied: backcall in /Users/yichenshih/opt/anaconda3/lib/python3.8/site-packages (from ipython>=1.0->ipython-sql) (0.2.0)\n",
                        "Requirement already satisfied: setuptools>=18.5 in /Users/yichenshih/opt/anaconda3/lib/python3.8/site-packages (from ipython>=1.0->ipython-sql) (52.0.0.post20210125)\n",
                        "Requirement already satisfied: parso<0.8.0,>=0.7.0 in /Users/yichenshih/opt/anaconda3/lib/python3.8/site-packages (from jedi>=0.16->ipython>=1.0->ipython-sql) (0.7.0)\n",
                        "Requirement already satisfied: ptyprocess>=0.5 in /Users/yichenshih/opt/anaconda3/lib/python3.8/site-packages (from pexpect>4.3->ipython>=1.0->ipython-sql) (0.7.0)\n",
                        "Requirement already satisfied: wcwidth in /Users/yichenshih/opt/anaconda3/lib/python3.8/site-packages (from prompt-toolkit!=3.0.0,!=3.0.1,<3.1.0,>=2.0.0->ipython>=1.0->ipython-sql) (0.2.5)\n",
                        "Building wheels for collected packages: prettytable\n",
                        "  Building wheel for prettytable (setup.py) ... \u001b[?25ldone\n",
                        "\u001b[?25h  Created wheel for prettytable: filename=prettytable-0.7.2-py3-none-any.whl size=13699 sha256=2abe9f8ef1be089f18f47d499ad8357f28cfd9aecbc5453bf90058761c487e72\n",
                        "  Stored in directory: /Users/yichenshih/Library/Caches/pip/wheels/48/6d/77/9517cb933af254f51a446f1a5ec9c2be3e45f17384940bce68\n",
                        "Successfully built prettytable\n",
                        "Installing collected packages: sqlparse, prettytable, ipython-sql\n",
                        "Successfully installed ipython-sql-0.4.0 prettytable-0.7.2 sqlparse-0.4.2\n",
                        "\u001b[33mWARNING: You are using pip version 21.1.1; however, version 21.2.4 is available.\n",
                        "You should consider upgrading via the '/Users/yichenshih/opt/anaconda3/bin/python -m pip install --upgrade pip' command.\u001b[0m\n"
                    ]
                }
            ],
            "metadata": {}
        },
        {
            "cell_type": "markdown",
            "source": [
                "### Connect to the database\n",
                "\n",
                "Let us first load the SQL extension and establish a connection with the database\n"
            ],
            "metadata": {}
        },
        {
            "cell_type": "code",
            "execution_count": 2,
            "source": [
                "%load_ext sql"
            ],
            "outputs": [],
            "metadata": {}
        },
        {
            "cell_type": "markdown",
            "source": [
                "**DB2 magic in case of old UI service credentials.**\n",
                "\n",
                "In the next cell enter your db2 connection string. Recall you created Service Credentials for your Db2 instance before. From the **uri** field of your Db2 service credentials copy everything after db2:// (except the double quote at the end) and paste it in the cell below after ibm_db_sa://\n",
                "\n",
                "<img src =\"https://cf-courses-data.s3.us.cloud-object-storage.appdomain.cloud/IBMDeveloperSkillsNetwork-DB0201EN-SkillsNetwork/labs/FinalModule_edX/images/URI.jpg\">\n",
                "\n",
                "in the following format\n",
                "\n",
                "**%sql ibm_db_sa://my-username:my-password\\@my-hostname:my-port/my-db-name**\n",
                "\n",
                "**DB2 magic in case of new UI service credentials.**\n",
                "\n",
                "<img src =\"https://cf-courses-data.s3.us.cloud-object-storage.appdomain.cloud/IBM-DS0321EN-SkillsNetwork/labs/module_2/images/servicecredentials.png\" width=600>  \n",
                "\n",
                "*   Use the following format.\n",
                "\n",
                "*   Add security=SSL at the end\n",
                "\n",
                "**%sql ibm_db_sa://my-username:my-password\\@my-hostname:my-port/my-db-name?security=SSL**\n"
            ],
            "metadata": {}
        },
        {
            "cell_type": "code",
            "execution_count": null,
            "source": [],
            "outputs": [],
            "metadata": {}
        },
        {
            "cell_type": "code",
            "execution_count": null,
            "source": [],
            "outputs": [],
            "metadata": {}
        },
        {
            "cell_type": "code",
            "execution_count": 3,
            "source": [
                "%sql ibm_db_sa://rvb16805:lgwkslnd7pj7rb%407@dashdb-txn-sbox-yp-dal09-11.services.dal.bluemix.net:50000/BLUDB"
            ],
            "outputs": [],
            "metadata": {}
        },
        {
            "cell_type": "markdown",
            "source": [
                "## Tasks\n",
                "\n",
                "Now write and execute SQL queries to solve the assignment tasks.\n",
                "\n",
                "### Task 1\n",
                "\n",
                "##### Display the names of the unique launch sites  in the space mission\n"
            ],
            "metadata": {}
        },
        {
            "cell_type": "code",
            "execution_count": 4,
            "source": [
                "%sql SELECT DISTINCT launch_site FROM SpaceX;"
            ],
            "outputs": [
                {
                    "output_type": "stream",
                    "name": "stdout",
                    "text": [
                        " * ibm_db_sa://rvb16805:***@dashdb-txn-sbox-yp-dal09-11.services.dal.bluemix.net:50000/BLUDB\n",
                        "Done.\n"
                    ]
                },
                {
                    "output_type": "execute_result",
                    "data": {
                        "text/html": [
                            "<table>\n",
                            "    <tr>\n",
                            "        <th>launch_site</th>\n",
                            "    </tr>\n",
                            "    <tr>\n",
                            "        <td>CCAFS LC-40</td>\n",
                            "    </tr>\n",
                            "    <tr>\n",
                            "        <td>CCAFS SLC-40</td>\n",
                            "    </tr>\n",
                            "    <tr>\n",
                            "        <td>KSC LC-39A</td>\n",
                            "    </tr>\n",
                            "    <tr>\n",
                            "        <td>VAFB SLC-4E</td>\n",
                            "    </tr>\n",
                            "</table>"
                        ],
                        "text/plain": [
                            "[('CCAFS LC-40',), ('CCAFS SLC-40',), ('KSC LC-39A',), ('VAFB SLC-4E',)]"
                        ]
                    },
                    "metadata": {},
                    "execution_count": 4
                }
            ],
            "metadata": {}
        },
        {
            "cell_type": "markdown",
            "source": [
                "### Task 2\n",
                "\n",
                "##### Display 5 records where launch sites begin with the string 'CCA'\n"
            ],
            "metadata": {}
        },
        {
            "cell_type": "code",
            "execution_count": 5,
            "source": [
                "%sql SELECT * FROM SpaceX WHERE launch_site LIKE '%CCA%'LIMIT 5;"
            ],
            "outputs": [
                {
                    "output_type": "stream",
                    "name": "stdout",
                    "text": [
                        " * ibm_db_sa://rvb16805:***@dashdb-txn-sbox-yp-dal09-11.services.dal.bluemix.net:50000/BLUDB\n",
                        "Done.\n"
                    ]
                },
                {
                    "output_type": "execute_result",
                    "data": {
                        "text/html": [
                            "<table>\n",
                            "    <tr>\n",
                            "        <th>DATE</th>\n",
                            "        <th>time__utc_</th>\n",
                            "        <th>booster_version</th>\n",
                            "        <th>launch_site</th>\n",
                            "        <th>payload</th>\n",
                            "        <th>payload_mass__kg_</th>\n",
                            "        <th>orbit</th>\n",
                            "        <th>customer</th>\n",
                            "        <th>mission_outcome</th>\n",
                            "        <th>landing__outcome</th>\n",
                            "    </tr>\n",
                            "    <tr>\n",
                            "        <td>2010-06-04</td>\n",
                            "        <td>18:45:00</td>\n",
                            "        <td>F9 v1.0  B0003</td>\n",
                            "        <td>CCAFS LC-40</td>\n",
                            "        <td>Dragon Spacecraft Qualification Unit</td>\n",
                            "        <td>0</td>\n",
                            "        <td>LEO</td>\n",
                            "        <td>SpaceX</td>\n",
                            "        <td>Success</td>\n",
                            "        <td>Failure (parachute)</td>\n",
                            "    </tr>\n",
                            "    <tr>\n",
                            "        <td>2010-12-08</td>\n",
                            "        <td>15:43:00</td>\n",
                            "        <td>F9 v1.0  B0004</td>\n",
                            "        <td>CCAFS LC-40</td>\n",
                            "        <td>Dragon demo flight C1, two CubeSats, barrel of Brouere cheese</td>\n",
                            "        <td>0</td>\n",
                            "        <td>LEO (ISS)</td>\n",
                            "        <td>NASA (COTS) NRO</td>\n",
                            "        <td>Success</td>\n",
                            "        <td>Failure (parachute)</td>\n",
                            "    </tr>\n",
                            "    <tr>\n",
                            "        <td>2012-05-22</td>\n",
                            "        <td>07:44:00</td>\n",
                            "        <td>F9 v1.0  B0005</td>\n",
                            "        <td>CCAFS LC-40</td>\n",
                            "        <td>Dragon demo flight C2</td>\n",
                            "        <td>525</td>\n",
                            "        <td>LEO (ISS)</td>\n",
                            "        <td>NASA (COTS)</td>\n",
                            "        <td>Success</td>\n",
                            "        <td>No attempt</td>\n",
                            "    </tr>\n",
                            "    <tr>\n",
                            "        <td>2012-10-08</td>\n",
                            "        <td>00:35:00</td>\n",
                            "        <td>F9 v1.0  B0006</td>\n",
                            "        <td>CCAFS LC-40</td>\n",
                            "        <td>SpaceX CRS-1</td>\n",
                            "        <td>500</td>\n",
                            "        <td>LEO (ISS)</td>\n",
                            "        <td>NASA (CRS)</td>\n",
                            "        <td>Success</td>\n",
                            "        <td>No attempt</td>\n",
                            "    </tr>\n",
                            "    <tr>\n",
                            "        <td>2013-03-01</td>\n",
                            "        <td>15:10:00</td>\n",
                            "        <td>F9 v1.0  B0007</td>\n",
                            "        <td>CCAFS LC-40</td>\n",
                            "        <td>SpaceX CRS-2</td>\n",
                            "        <td>677</td>\n",
                            "        <td>LEO (ISS)</td>\n",
                            "        <td>NASA (CRS)</td>\n",
                            "        <td>Success</td>\n",
                            "        <td>No attempt</td>\n",
                            "    </tr>\n",
                            "</table>"
                        ],
                        "text/plain": [
                            "[(datetime.date(2010, 6, 4), datetime.time(18, 45), 'F9 v1.0  B0003', 'CCAFS LC-40', 'Dragon Spacecraft Qualification Unit', 0, 'LEO', 'SpaceX', 'Success', 'Failure (parachute)'),\n",
                            " (datetime.date(2010, 12, 8), datetime.time(15, 43), 'F9 v1.0  B0004', 'CCAFS LC-40', 'Dragon demo flight C1, two CubeSats, barrel of Brouere cheese', 0, 'LEO (ISS)', 'NASA (COTS) NRO', 'Success', 'Failure (parachute)'),\n",
                            " (datetime.date(2012, 5, 22), datetime.time(7, 44), 'F9 v1.0  B0005', 'CCAFS LC-40', 'Dragon demo flight C2', 525, 'LEO (ISS)', 'NASA (COTS)', 'Success', 'No attempt'),\n",
                            " (datetime.date(2012, 10, 8), datetime.time(0, 35), 'F9 v1.0  B0006', 'CCAFS LC-40', 'SpaceX CRS-1', 500, 'LEO (ISS)', 'NASA (CRS)', 'Success', 'No attempt'),\n",
                            " (datetime.date(2013, 3, 1), datetime.time(15, 10), 'F9 v1.0  B0007', 'CCAFS LC-40', 'SpaceX CRS-2', 677, 'LEO (ISS)', 'NASA (CRS)', 'Success', 'No attempt')]"
                        ]
                    },
                    "metadata": {},
                    "execution_count": 5
                }
            ],
            "metadata": {}
        },
        {
            "cell_type": "markdown",
            "source": [
                "### Task 3\n",
                "\n",
                "##### Display the total payload mass carried by boosters launched by NASA (CRS)\n"
            ],
            "metadata": {}
        },
        {
            "cell_type": "code",
            "execution_count": 6,
            "source": [
                "%sql SELECT SUM(payload_mass__kg_) FROM SpaceX WHERE customer LIKE '%NASA (CRS)%';"
            ],
            "outputs": [
                {
                    "output_type": "stream",
                    "name": "stdout",
                    "text": [
                        " * ibm_db_sa://rvb16805:***@dashdb-txn-sbox-yp-dal09-11.services.dal.bluemix.net:50000/BLUDB\n",
                        "Done.\n"
                    ]
                },
                {
                    "output_type": "execute_result",
                    "data": {
                        "text/html": [
                            "<table>\n",
                            "    <tr>\n",
                            "        <th>1</th>\n",
                            "    </tr>\n",
                            "    <tr>\n",
                            "        <td>48213</td>\n",
                            "    </tr>\n",
                            "</table>"
                        ],
                        "text/plain": [
                            "[(48213,)]"
                        ]
                    },
                    "metadata": {},
                    "execution_count": 6
                }
            ],
            "metadata": {}
        },
        {
            "cell_type": "markdown",
            "source": [
                "### Task 4\n",
                "\n",
                "##### Display average payload mass carried by booster version F9 v1.1\n"
            ],
            "metadata": {}
        },
        {
            "cell_type": "code",
            "execution_count": 7,
            "source": [
                "%sql SELECT AVG(payload_mass__kg_) FROM SpaceX WHERE booster_version LIKE '%F9 v1.1%';"
            ],
            "outputs": [
                {
                    "output_type": "stream",
                    "name": "stdout",
                    "text": [
                        " * ibm_db_sa://rvb16805:***@dashdb-txn-sbox-yp-dal09-11.services.dal.bluemix.net:50000/BLUDB\n",
                        "Done.\n"
                    ]
                },
                {
                    "output_type": "execute_result",
                    "data": {
                        "text/html": [
                            "<table>\n",
                            "    <tr>\n",
                            "        <th>1</th>\n",
                            "    </tr>\n",
                            "    <tr>\n",
                            "        <td>2534.666666</td>\n",
                            "    </tr>\n",
                            "</table>"
                        ],
                        "text/plain": [
                            "[(Decimal('2534.666666'),)]"
                        ]
                    },
                    "metadata": {},
                    "execution_count": 7
                }
            ],
            "metadata": {}
        },
        {
            "cell_type": "markdown",
            "source": [
                "### Task 5\n",
                "\n",
                "##### List the date when the first successful landing outcome in ground pad was acheived.\n",
                "\n",
                "*Hint:Use min function*\n"
            ],
            "metadata": {}
        },
        {
            "cell_type": "code",
            "execution_count": 8,
            "source": [
                "%sql SELECT min(DATE) FROM SpaceX WHERE landing__outcome LIKE ('%Success (ground pad)%');"
            ],
            "outputs": [
                {
                    "output_type": "stream",
                    "name": "stdout",
                    "text": [
                        " * ibm_db_sa://rvb16805:***@dashdb-txn-sbox-yp-dal09-11.services.dal.bluemix.net:50000/BLUDB\n",
                        "Done.\n"
                    ]
                },
                {
                    "output_type": "execute_result",
                    "data": {
                        "text/html": [
                            "<table>\n",
                            "    <tr>\n",
                            "        <th>1</th>\n",
                            "    </tr>\n",
                            "    <tr>\n",
                            "        <td>2015-12-22</td>\n",
                            "    </tr>\n",
                            "</table>"
                        ],
                        "text/plain": [
                            "[(datetime.date(2015, 12, 22),)]"
                        ]
                    },
                    "metadata": {},
                    "execution_count": 8
                }
            ],
            "metadata": {}
        },
        {
            "cell_type": "markdown",
            "source": [
                "### Task 6\n",
                "\n",
                "##### List the names of the boosters which have success in drone ship and have payload mass greater than 4000 but less than 6000\n"
            ],
            "metadata": {}
        },
        {
            "cell_type": "code",
            "execution_count": 9,
            "source": [
                "%sql SELECT booster_version FROM SpaceX WHERE landing__outcome LIKE 'Success (drone ship)' AND payload_mass__kg_ BETWEEN 4000 AND 6000;"
            ],
            "outputs": [
                {
                    "output_type": "stream",
                    "name": "stdout",
                    "text": [
                        " * ibm_db_sa://rvb16805:***@dashdb-txn-sbox-yp-dal09-11.services.dal.bluemix.net:50000/BLUDB\n",
                        "Done.\n"
                    ]
                },
                {
                    "output_type": "execute_result",
                    "data": {
                        "text/html": [
                            "<table>\n",
                            "    <tr>\n",
                            "        <th>booster_version</th>\n",
                            "    </tr>\n",
                            "    <tr>\n",
                            "        <td>F9 FT B1022</td>\n",
                            "    </tr>\n",
                            "    <tr>\n",
                            "        <td>F9 FT B1026</td>\n",
                            "    </tr>\n",
                            "    <tr>\n",
                            "        <td>F9 FT  B1021.2</td>\n",
                            "    </tr>\n",
                            "    <tr>\n",
                            "        <td>F9 FT  B1031.2</td>\n",
                            "    </tr>\n",
                            "</table>"
                        ],
                        "text/plain": [
                            "[('F9 FT B1022',), ('F9 FT B1026',), ('F9 FT  B1021.2',), ('F9 FT  B1031.2',)]"
                        ]
                    },
                    "metadata": {},
                    "execution_count": 9
                }
            ],
            "metadata": {}
        },
        {
            "cell_type": "markdown",
            "source": [
                "### Task 7\n",
                "\n",
                "##### List the total number of successful and failure mission outcomes\n"
            ],
            "metadata": {}
        },
        {
            "cell_type": "code",
            "execution_count": 10,
            "source": [
                "%sql SELECT landing__outcome, COUNT(landing__outcome) AS counts FROM SpaceX GROUP BY landing__outcome ORDER BY 2 DESC;"
            ],
            "outputs": [
                {
                    "output_type": "stream",
                    "name": "stdout",
                    "text": [
                        " * ibm_db_sa://rvb16805:***@dashdb-txn-sbox-yp-dal09-11.services.dal.bluemix.net:50000/BLUDB\n",
                        "Done.\n"
                    ]
                },
                {
                    "output_type": "execute_result",
                    "data": {
                        "text/html": [
                            "<table>\n",
                            "    <tr>\n",
                            "        <th>landing__outcome</th>\n",
                            "        <th>counts</th>\n",
                            "    </tr>\n",
                            "    <tr>\n",
                            "        <td>Success</td>\n",
                            "        <td>38</td>\n",
                            "    </tr>\n",
                            "    <tr>\n",
                            "        <td>No attempt</td>\n",
                            "        <td>22</td>\n",
                            "    </tr>\n",
                            "    <tr>\n",
                            "        <td>Success (drone ship)</td>\n",
                            "        <td>14</td>\n",
                            "    </tr>\n",
                            "    <tr>\n",
                            "        <td>Success (ground pad)</td>\n",
                            "        <td>9</td>\n",
                            "    </tr>\n",
                            "    <tr>\n",
                            "        <td>Controlled (ocean)</td>\n",
                            "        <td>5</td>\n",
                            "    </tr>\n",
                            "    <tr>\n",
                            "        <td>Failure (drone ship)</td>\n",
                            "        <td>5</td>\n",
                            "    </tr>\n",
                            "    <tr>\n",
                            "        <td>Failure</td>\n",
                            "        <td>3</td>\n",
                            "    </tr>\n",
                            "    <tr>\n",
                            "        <td>Failure (parachute)</td>\n",
                            "        <td>2</td>\n",
                            "    </tr>\n",
                            "    <tr>\n",
                            "        <td>Uncontrolled (ocean)</td>\n",
                            "        <td>2</td>\n",
                            "    </tr>\n",
                            "    <tr>\n",
                            "        <td>Precluded (drone ship)</td>\n",
                            "        <td>1</td>\n",
                            "    </tr>\n",
                            "</table>"
                        ],
                        "text/plain": [
                            "[('Success', Decimal('38')),\n",
                            " ('No attempt', Decimal('22')),\n",
                            " ('Success (drone ship)', Decimal('14')),\n",
                            " ('Success (ground pad)', Decimal('9')),\n",
                            " ('Controlled (ocean)', Decimal('5')),\n",
                            " ('Failure (drone ship)', Decimal('5')),\n",
                            " ('Failure', Decimal('3')),\n",
                            " ('Failure (parachute)', Decimal('2')),\n",
                            " ('Uncontrolled (ocean)', Decimal('2')),\n",
                            " ('Precluded (drone ship)', Decimal('1'))]"
                        ]
                    },
                    "metadata": {},
                    "execution_count": 10
                }
            ],
            "metadata": {}
        },
        {
            "cell_type": "markdown",
            "source": [
                "### Task 8\n",
                "\n",
                "##### List the   names of the booster_versions which have carried the maximum payload mass. Use a subquery\n"
            ],
            "metadata": {}
        },
        {
            "cell_type": "code",
            "execution_count": 14,
            "source": [
                "%sql SELECT booster_version , payload_mass__kg_ AS maximum FROM SpaceX WHERE payload_mass__kg_ = (SELECT max(payload_mass__kg_) FROM SpaceX);"
            ],
            "outputs": [
                {
                    "output_type": "stream",
                    "name": "stdout",
                    "text": [
                        " * ibm_db_sa://rvb16805:***@dashdb-txn-sbox-yp-dal09-11.services.dal.bluemix.net:50000/BLUDB\n",
                        "Done.\n"
                    ]
                },
                {
                    "output_type": "execute_result",
                    "data": {
                        "text/html": [
                            "<table>\n",
                            "    <tr>\n",
                            "        <th>booster_version</th>\n",
                            "        <th>maximum</th>\n",
                            "    </tr>\n",
                            "    <tr>\n",
                            "        <td>F9 B5 B1048.4</td>\n",
                            "        <td>15600</td>\n",
                            "    </tr>\n",
                            "    <tr>\n",
                            "        <td>F9 B5 B1049.4</td>\n",
                            "        <td>15600</td>\n",
                            "    </tr>\n",
                            "    <tr>\n",
                            "        <td>F9 B5 B1051.3</td>\n",
                            "        <td>15600</td>\n",
                            "    </tr>\n",
                            "    <tr>\n",
                            "        <td>F9 B5 B1056.4</td>\n",
                            "        <td>15600</td>\n",
                            "    </tr>\n",
                            "    <tr>\n",
                            "        <td>F9 B5 B1048.5</td>\n",
                            "        <td>15600</td>\n",
                            "    </tr>\n",
                            "    <tr>\n",
                            "        <td>F9 B5 B1051.4</td>\n",
                            "        <td>15600</td>\n",
                            "    </tr>\n",
                            "    <tr>\n",
                            "        <td>F9 B5 B1049.5</td>\n",
                            "        <td>15600</td>\n",
                            "    </tr>\n",
                            "    <tr>\n",
                            "        <td>F9 B5 B1060.2</td>\n",
                            "        <td>15600</td>\n",
                            "    </tr>\n",
                            "    <tr>\n",
                            "        <td>F9 B5 B1058.3</td>\n",
                            "        <td>15600</td>\n",
                            "    </tr>\n",
                            "    <tr>\n",
                            "        <td>F9 B5 B1051.6</td>\n",
                            "        <td>15600</td>\n",
                            "    </tr>\n",
                            "    <tr>\n",
                            "        <td>F9 B5 B1060.3</td>\n",
                            "        <td>15600</td>\n",
                            "    </tr>\n",
                            "    <tr>\n",
                            "        <td>F9 B5 B1049.7</td>\n",
                            "        <td>15600</td>\n",
                            "    </tr>\n",
                            "</table>"
                        ],
                        "text/plain": [
                            "[('F9 B5 B1048.4', 15600),\n",
                            " ('F9 B5 B1049.4', 15600),\n",
                            " ('F9 B5 B1051.3', 15600),\n",
                            " ('F9 B5 B1056.4', 15600),\n",
                            " ('F9 B5 B1048.5', 15600),\n",
                            " ('F9 B5 B1051.4', 15600),\n",
                            " ('F9 B5 B1049.5', 15600),\n",
                            " ('F9 B5 B1060.2', 15600),\n",
                            " ('F9 B5 B1058.3', 15600),\n",
                            " ('F9 B5 B1051.6', 15600),\n",
                            " ('F9 B5 B1060.3', 15600),\n",
                            " ('F9 B5 B1049.7', 15600)]"
                        ]
                    },
                    "metadata": {},
                    "execution_count": 14
                }
            ],
            "metadata": {}
        },
        {
            "cell_type": "markdown",
            "source": [
                "### Task 9\n",
                "\n",
                "##### List the failed landing_outcomes in drone ship, their booster versions, and launch site names for in year 2015\n"
            ],
            "metadata": {}
        },
        {
            "cell_type": "code",
            "execution_count": 12,
            "source": [
                "%sql SELECT DATE, booster_version, launch_site, landing__outcome FROM SpaceX WHERE landing__outcome LIKE '%Failure (drone ship)%' AND DATE BETWEEN '2015-01-01' AND '2015-12-31';\n"
            ],
            "outputs": [
                {
                    "output_type": "stream",
                    "name": "stdout",
                    "text": [
                        " * ibm_db_sa://rvb16805:***@dashdb-txn-sbox-yp-dal09-11.services.dal.bluemix.net:50000/BLUDB\n",
                        "Done.\n"
                    ]
                },
                {
                    "output_type": "execute_result",
                    "data": {
                        "text/html": [
                            "<table>\n",
                            "    <tr>\n",
                            "        <th>DATE</th>\n",
                            "        <th>booster_version</th>\n",
                            "        <th>launch_site</th>\n",
                            "        <th>landing__outcome</th>\n",
                            "    </tr>\n",
                            "    <tr>\n",
                            "        <td>2015-01-10</td>\n",
                            "        <td>F9 v1.1 B1012</td>\n",
                            "        <td>CCAFS LC-40</td>\n",
                            "        <td>Failure (drone ship)</td>\n",
                            "    </tr>\n",
                            "    <tr>\n",
                            "        <td>2015-04-14</td>\n",
                            "        <td>F9 v1.1 B1015</td>\n",
                            "        <td>CCAFS LC-40</td>\n",
                            "        <td>Failure (drone ship)</td>\n",
                            "    </tr>\n",
                            "</table>"
                        ],
                        "text/plain": [
                            "[(datetime.date(2015, 1, 10), 'F9 v1.1 B1012', 'CCAFS LC-40', 'Failure (drone ship)'),\n",
                            " (datetime.date(2015, 4, 14), 'F9 v1.1 B1015', 'CCAFS LC-40', 'Failure (drone ship)')]"
                        ]
                    },
                    "metadata": {},
                    "execution_count": 12
                }
            ],
            "metadata": {}
        },
        {
            "cell_type": "markdown",
            "source": [
                "### Task 10\n",
                "\n",
                "##### Rank the count of landing outcomes (such as Failure (drone ship) or Success (ground pad)) between the date 2010-06-04 and 2017-03-20, in descending order\n"
            ],
            "metadata": {}
        },
        {
            "cell_type": "code",
            "execution_count": 13,
            "source": [
                "%sql SELECT landing__outcome, count(landing__outcome) AS counts FROM SpaceX WHERE DATE BETWEEN '2010-06-04' AND '2017-03-20' GROUP BY landing__outcome ORDER BY 2 DESC;"
            ],
            "outputs": [
                {
                    "output_type": "stream",
                    "name": "stdout",
                    "text": [
                        " * ibm_db_sa://rvb16805:***@dashdb-txn-sbox-yp-dal09-11.services.dal.bluemix.net:50000/BLUDB\n",
                        "Done.\n"
                    ]
                },
                {
                    "output_type": "execute_result",
                    "data": {
                        "text/html": [
                            "<table>\n",
                            "    <tr>\n",
                            "        <th>landing__outcome</th>\n",
                            "        <th>counts</th>\n",
                            "    </tr>\n",
                            "    <tr>\n",
                            "        <td>No attempt</td>\n",
                            "        <td>10</td>\n",
                            "    </tr>\n",
                            "    <tr>\n",
                            "        <td>Failure (drone ship)</td>\n",
                            "        <td>5</td>\n",
                            "    </tr>\n",
                            "    <tr>\n",
                            "        <td>Success (drone ship)</td>\n",
                            "        <td>5</td>\n",
                            "    </tr>\n",
                            "    <tr>\n",
                            "        <td>Controlled (ocean)</td>\n",
                            "        <td>3</td>\n",
                            "    </tr>\n",
                            "    <tr>\n",
                            "        <td>Success (ground pad)</td>\n",
                            "        <td>3</td>\n",
                            "    </tr>\n",
                            "    <tr>\n",
                            "        <td>Failure (parachute)</td>\n",
                            "        <td>2</td>\n",
                            "    </tr>\n",
                            "    <tr>\n",
                            "        <td>Uncontrolled (ocean)</td>\n",
                            "        <td>2</td>\n",
                            "    </tr>\n",
                            "    <tr>\n",
                            "        <td>Precluded (drone ship)</td>\n",
                            "        <td>1</td>\n",
                            "    </tr>\n",
                            "</table>"
                        ],
                        "text/plain": [
                            "[('No attempt', Decimal('10')),\n",
                            " ('Failure (drone ship)', Decimal('5')),\n",
                            " ('Success (drone ship)', Decimal('5')),\n",
                            " ('Controlled (ocean)', Decimal('3')),\n",
                            " ('Success (ground pad)', Decimal('3')),\n",
                            " ('Failure (parachute)', Decimal('2')),\n",
                            " ('Uncontrolled (ocean)', Decimal('2')),\n",
                            " ('Precluded (drone ship)', Decimal('1'))]"
                        ]
                    },
                    "metadata": {},
                    "execution_count": 13
                }
            ],
            "metadata": {}
        },
        {
            "cell_type": "markdown",
            "source": [
                "### Reference Links\n",
                "\n",
                "*   <a href =\"https://cf-courses-data.s3.us.cloud-object-storage.appdomain.cloud/IBMDeveloperSkillsNetwork-DB0201EN-SkillsNetwork/labs/Labs_Coursera_V5/labs/Lab%20-%20String%20Patterns%20-%20Sorting%20-%20Grouping/instructional-labs.md.html?utm_medium=Exinfluencer&utm_source=Exinfluencer&utm_content=000026UJ&utm_term=10006555&utm_id=NA-SkillsNetwork-Channel-SkillsNetworkCoursesIBMDS0321ENSkillsNetwork26802033-2021-01-01&origin=www.coursera.org\">Hands-on Lab : String Patterns, Sorting and Grouping</a>\n",
                "\n",
                "*   <a  href=\"https://cf-courses-data.s3.us.cloud-object-storage.appdomain.cloud/IBMDeveloperSkillsNetwork-DB0201EN-SkillsNetwork/labs/Labs_Coursera_V5/labs/Lab%20-%20Built-in%20functions%20/Hands-on_Lab__Built-in_Functions.md.html?utm_medium=Exinfluencer&utm_source=Exinfluencer&utm_content=000026UJ&utm_term=10006555&utm_id=NA-SkillsNetwork-Channel-SkillsNetworkCoursesIBMDS0321ENSkillsNetwork26802033-2021-01-01&origin=www.coursera.org\">Hands-on Lab: Built-in functions</a>\n",
                "\n",
                "*   <a  href=\"https://cf-courses-data.s3.us.cloud-object-storage.appdomain.cloud/IBMDeveloperSkillsNetwork-DB0201EN-SkillsNetwork/labs/Labs_Coursera_V5/labs/Lab%20-%20Sub-queries%20and%20Nested%20SELECTs%20/instructional-labs.md.html?utm_medium=Exinfluencer&utm_source=Exinfluencer&utm_content=000026UJ&utm_term=10006555&utm_id=NA-SkillsNetwork-Channel-SkillsNetworkCoursesIBMDS0321ENSkillsNetwork26802033-2021-01-01&origin=www.coursera.org\">Hands-on Lab : Sub-queries and Nested SELECT Statements</a>\n",
                "\n",
                "*   <a href=\"https://cf-courses-data.s3.us.cloud-object-storage.appdomain.cloud/IBMDeveloperSkillsNetwork-DB0201EN-SkillsNetwork/labs/Module%205/DB0201EN-Week3-1-3-SQLmagic.ipynb?utm_medium=Exinfluencer&utm_source=Exinfluencer&utm_content=000026UJ&utm_term=10006555&utm_id=NA-SkillsNetwork-Channel-SkillsNetworkCoursesIBMDS0321ENSkillsNetwork26802033-2021-01-01\">Hands-on Tutorial: Accessing Databases with SQL magic</a>\n",
                "\n",
                "*   <a href= \"https://cf-courses-data.s3.us.cloud-object-storage.appdomain.cloud/IBMDeveloperSkillsNetwork-DB0201EN-SkillsNetwork/labs/Module%205/DB0201EN-Week3-1-4-Analyzing.ipynb?utm_medium=Exinfluencer&utm_source=Exinfluencer&utm_content=000026UJ&utm_term=10006555&utm_id=NA-SkillsNetwork-Channel-SkillsNetworkCoursesIBMDS0321ENSkillsNetwork26802033-2021-01-01\">Hands-on Lab: Analyzing a real World Data Set</a>\n"
            ],
            "metadata": {}
        },
        {
            "cell_type": "markdown",
            "source": [
                "## Author(s)\n",
                "\n",
                "<h4> Lakshmi Holla </h4>\n"
            ],
            "metadata": {}
        },
        {
            "cell_type": "markdown",
            "source": [
                "## Other Contributors\n",
                "\n",
                "<h4> Rav Ahuja </h4>\n"
            ],
            "metadata": {}
        },
        {
            "cell_type": "markdown",
            "source": [
                "## Change log\n",
                "\n",
                "| Date       | Version | Changed by    | Change Description        |\n",
                "| ---------- | ------- | ------------- | ------------------------- |\n",
                "| 2021-08-24 | 0.3     | Lakshmi Holla | Added library update      |\n",
                "| 2021-07-09 | 0.2     | Lakshmi Holla | Changes made in magic sql |\n",
                "| 2021-05-20 | 0.1     | Lakshmi Holla | Created Initial Version   |\n"
            ],
            "metadata": {}
        },
        {
            "cell_type": "markdown",
            "source": [
                "## <h3 align=\"center\"> © IBM Corporation 2021. All rights reserved. <h3/>\n"
            ],
            "metadata": {}
        }
    ],
    "metadata": {
        "kernelspec": {
            "name": "python3",
            "display_name": "Python 3.8.8 64-bit ('base': conda)"
        },
        "language_info": {
            "codemirror_mode": {
                "name": "ipython",
                "version": 3
            },
            "file_extension": ".py",
            "mimetype": "text/x-python",
            "name": "python",
            "nbconvert_exporter": "python",
            "pygments_lexer": "ipython3",
            "version": "3.8.8"
        },
        "interpreter": {
            "hash": "70f76040f86af11b3fa425d33956dcd3f2f215b8a48fb98bc084e6611bed4fb8"
        }
    },
    "nbformat": 4,
    "nbformat_minor": 4
}